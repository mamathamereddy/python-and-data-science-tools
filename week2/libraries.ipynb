{
 "cells": [
  {
   "cell_type": "markdown",
   "metadata": {
    "slideshow": {
     "slide_type": "slide"
    }
   },
   "source": [
    "# Top 10 Python Libraries for Data Science"
   ]
  },
  {
   "cell_type": "markdown",
   "metadata": {
    "slideshow": {
     "slide_type": "slide"
    }
   },
   "source": [
    "\n",
    "- TensorFlow\n",
    "- NumPy\n",
    "- SciPy \n",
    "- Pandas\n",
    "- Matplotlib , Seaborn\n",
    "- Keras\n",
    "- SciKit-Learn\n",
    "- PyTorch\n",
    "- Scrapy\n",
    "- BeautifulSoup"
   ]
  },
  {
   "cell_type": "markdown",
   "metadata": {
    "slideshow": {
     "slide_type": "slide"
    }
   },
   "source": [
    "1.__TensorFlow__\n",
    "The first in the list of python libraries for data science is TensorFlow. TensorFlow is a library for high-performance numerical computations with around 35,000 comments and a vibrant community of around 1,500 contributors. It’s used across various scientific fields. TensorFlow is basically a framework for defining and running computations that involve tensors, which are partially defined computational objects that eventually produce a value.\n",
    "\n",
    " __Features__: \n",
    "- Better computational graph visualizations\n",
    "- Reduces error by 50 to 60 percent in neural machine learning\n",
    "- Parallel computing to execute complex models\n",
    "- Seamless library management backed by Google\n",
    "- Quicker updates and frequent new releases to provide you with the latest features \n",
    "\n",
    "__TensorFlow is particularly useful for the following applications__:\n",
    "- Speech and image recognition \n",
    "- Text-based applications \n",
    "- Time-series analysis\n",
    "- Video detection"
   ]
  },
  {
   "cell_type": "markdown",
   "metadata": {
    "slideshow": {
     "slide_type": "slide"
    }
   },
   "source": [
    "2.__SciPy__\n",
    "SciPy (Scientific Python) is another free and open-source Python library for data science that is extensively used for high-level computations. SciPy has around 19,000 comments on GitHub and an active community of about 600 contributors. It’s extensively used for scientific and technical computations, because it extends NumPy and provides many user-friendly and efficient routines for scientific calculations.\n",
    "\n",
    "__Features__:\n",
    "\n",
    "- Collection of algorithms and functions built on the NumPy extension of Python\n",
    "- High-level commands for data manipulation and visualization\n",
    "- Multidimensional image processing with the SciPy ndimage submodule\n",
    "- Includes built-in functions for solving differential equations\n",
    "\n",
    "__Applications__:\n",
    "- Multidimensional image operations\n",
    "- Solving differential equations and the Fourier transform\n",
    "- Optimization algorithms\n",
    "- Linear algebra"
   ]
  },
  {
   "cell_type": "markdown",
   "metadata": {
    "slideshow": {
     "slide_type": "slide"
    }
   },
   "source": [
    "3.__NumPy__\n",
    "NumPy (Numerical Python) is the fundamental package for numerical computation in Python; it contains a powerful N-dimensional array object. It has around 18,000 comments on GitHub and an active community of 700 contributors. It’s a general-purpose array-processing package that provides high-performance multidimensional objects called arrays and tools for working with them. NumPy also addresses the slowness problem partly by providing these multidimensional arrays as well as providing functions and operators that operate efficiently on these arrays. \n",
    "\n",
    "__Features__:\n",
    "- Provides fast, precompiled functions for numerical routines\n",
    "- Array-oriented computing for better efficiency\n",
    "- Supports an object-oriented approach\n",
    "- Compact and faster computations with vectorization\n",
    "\n",
    "__Applications__:\n",
    "\n",
    "- Extensively used in data analysis \n",
    "- Creates powerful N-dimensional array\n",
    "- Forms the base of other libraries, such as SciPy and scikit-learn\n",
    "- Replacement of MATLAB when used with SciPy and matplotlib"
   ]
  },
  {
   "cell_type": "markdown",
   "metadata": {
    "slideshow": {
     "slide_type": "slide"
    }
   },
   "source": [
    "4.__Pandas__\n",
    "Pandas (Python data analysis) is a must in the data science life cycle. It is the most popular and widely used Python library for data science, along with NumPy in matplotlib. With around 17,00 comments on GitHub and an active community of 1,200 contributors, it is heavily used for data analysis and cleaning. Pandas provides fast, flexible data structures, such as data frame CDs, which are designed to work with structured data very easily and intuitively. \n",
    "\n",
    "__Features__:\n",
    "\n",
    "- Eloquent syntax and rich functionalities that gives you the freedom to deal with missing data\n",
    "- Enables you to create your own function and run it across a series of data\n",
    "- High-level abstraction\n",
    "- Contains high-level data structures and manipulation tools\n",
    "\n",
    "__Applications__: \n",
    "\n",
    "- General data wrangling and cleaning\n",
    "- ETL (extract, transform, load) jobs for data transformation and data storage, as it has excellent support for loading CSV files into its data frame format\n",
    "- Used in a variety of academic and commercial areas, including statistics, finance and neuroscience \n",
    "- Time-series-specific functionality, such as date range generation, moving window, linear regression and date shifting."
   ]
  },
  {
   "cell_type": "markdown",
   "metadata": {
    "slideshow": {
     "slide_type": "slide"
    }
   },
   "source": [
    "5.__Matplotlib__\n",
    "Matplotlib has powerful yet beautiful visualizations. It’s a plotting library for Python with around 26,000 comments on GitHub and a very vibrant community of about 700 contributors. Because of the graphs and plots that it produces, it’s extensively used for data visualization. It also provides an object-oriented API, which can be used to embed those plots into applications. \n",
    "\n",
    "__Features__:\n",
    "- Usable as a MATLAB replacement, with the advantage of being free and open source \n",
    "- Supports dozens of backends and output types, which means you can use it regardless of which operating system you’re using or which output format you wish to use\n",
    "- Pandas itself can be used as wrappers around MATLAB API to drive MATLAB like a cleaner\n",
    "- Low memory consumption and better runtime behavior\n",
    "__Applications__:\n",
    "\n",
    "- Correlation analysis of variables\n",
    "- Visualize 95 percent confidence intervals of the models\n",
    "- Outlier detection using a scatter plot etc.\n",
    "- Visualize the distribution of data to gain instant insights\n",
    "\n"
   ]
  },
  {
   "cell_type": "markdown",
   "metadata": {
    "slideshow": {
     "slide_type": "slide"
    }
   },
   "source": [
    "6.__Keras__\n",
    "Similar to TensorFlow, Keras is another popular library that is used extensively for deep learning and neural network modules. Keras supports both the TensorFlow and Theano backends, so it is a good option if you don’t want to dive into the details of TensorFlow.\n",
    "\n",
    "__Features__:\n",
    "Keras provides a vast prelabeled datasets which can be used to directly import and load.\n",
    "It contains various implemented layers and parameters that can be used for construction, configuration, training, and evaluation of neural networks\n",
    "\n",
    "__Applications__:\n",
    "One of the most significant applications of Keras are the deep learning models that are available with their pretrained weights. You can use these models directly to make predictions or extract its features without creating or training your own new model.\n"
   ]
  },
  {
   "cell_type": "markdown",
   "metadata": {
    "slideshow": {
     "slide_type": "slide"
    }
   },
   "source": [
    "7. __Scikit-learn__\n",
    "Next in the list of the top python libraries for data science comes Scikit-learn, a machine learning library that provides almost all the machine learning algorithms you might need. Scikit-learn is designed to be interpolated into NumPy and SciPy.\n",
    "\n",
    "__Applications__:\n",
    "\n",
    "- clustering\n",
    "- classification\n",
    "- regression\n",
    "- model selection\n",
    "- dimensionality reduction"
   ]
  },
  {
   "cell_type": "markdown",
   "metadata": {
    "slideshow": {
     "slide_type": "slide"
    }
   },
   "source": [
    "8.__PyTorch__\n",
    "Next in the list of top python libraries for data science is PyTorch, which is a Python-based scientific computing package that uses the power of graphics processing units. PyTorch is one of the most commonly preferred deep learning research platforms built to provide maximum flexibility and speed.\n",
    "\n",
    "__Applications__:\n",
    "- PyTorch is famous for providing two of the most high-level features\n",
    "- tensor computations with strong GPU acceleration support\n",
    "- building deep neural networks on a tape-based autograd system"
   ]
  },
  {
   "cell_type": "markdown",
   "metadata": {
    "slideshow": {
     "slide_type": "slide"
    }
   },
   "source": [
    "9.__Scrapy__\n",
    "The next known python libraries for data science is Scrapy. Scrapy isone of the most popular, fast, open-source web crawling frameworks written in Python. It is commonly used to extract the data from the web page with the help of selectors based on XPath.\n",
    "\n",
    "__Applications__:\n",
    "\n",
    "Scrapy helps in building crawling programs (spider bots) that can retrieve structured data from the web\n",
    "Scrappy is also used to gather data from APIs and follows a ‘Don't Repeat Yourself’ principle in the design of its interface, influencing users to write universal codes that can be reused for building and scaling large crawlers."
   ]
  },
  {
   "cell_type": "markdown",
   "metadata": {
    "slideshow": {
     "slide_type": "slide"
    }
   },
   "source": [
    "10.__BeautifulSoup__\n",
    "\n",
    "- BeautifulSoup - the next python library for data science. This is another popular python library most commonly known for web crawling and data scraping. \n",
    "- Users can collect data that’s available on some website without a proper CSV or API, and BeautifulSoup can help them scrape it and arrange it into the required format."
   ]
  }
 ],
 "metadata": {
  "celltoolbar": "Slideshow",
  "kernelspec": {
   "display_name": "Python 3",
   "language": "python",
   "name": "python3"
  },
  "language_info": {
   "codemirror_mode": {
    "name": "ipython",
    "version": 3
   },
   "file_extension": ".py",
   "mimetype": "text/x-python",
   "name": "python",
   "nbconvert_exporter": "python",
   "pygments_lexer": "ipython3",
   "version": "3.8.1"
  }
 },
 "nbformat": 4,
 "nbformat_minor": 4
}
